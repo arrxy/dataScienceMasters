{
 "cells": [
  {
   "cell_type": "code",
   "execution_count": null,
   "metadata": {},
   "outputs": [],
   "source": [
    "l = [('Sachin Tendulkar', 34357), ('Ricky Ponting', 27483), ('Jack Kallis', 25534), ('Virat Kohli', 24936)]\n",
    "\n",
    "l = sorted(l, key = lambda x: x[1])\n",
    "print(l)   \n",
    "\n",
    "l = [1, 2, 3, 4, 5, 6, 7, 8, 9, 10]\n",
    "l = list(map(lambda x: x ** 2, l))\n",
    "print(l)\n",
    "\n",
    "l = [1, 2, 3, 4, 5, 6, 7, 8, 9, 10]\n",
    "l = tuple(map(lambda x: str(x), l))\n",
    "print(l)\n",
    "\n",
    "from functools import reduce \n",
    "l = reduce(lambda x, y: x * y ,range(1, 26))\n",
    "print(l)\n",
    "\n",
    "l = [2, 3, 6, 9, 27, 60, 90, 120, 55, 46]\n",
    "l = list(filter(lambda x: x % 2 == 0 or x % 3 == 0, l))\n",
    "print(l)\n",
    "\n",
    "l = ['python', 'php', 'aba', 'radar', 'level']\n",
    "l = list(filter(lambda x: x[::-1] == x, l))\n",
    "print(l)"
   ]
  }
 ],
 "metadata": {
  "language_info": {
   "name": "python"
  },
  "orig_nbformat": 4
 },
 "nbformat": 4,
 "nbformat_minor": 2
}
