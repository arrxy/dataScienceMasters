{
 "cells": [
  {
   "cell_type": "code",
   "execution_count": null,
   "metadata": {},
   "outputs": [],
   "source": [
    "# Question 1\n",
    "grade = input()\n",
    "grade = int(grade)\n",
    "if grade > 90:\n",
    "    print('A')\n",
    "elif grade > 80:\n",
    "    print('B')\n",
    "elif grade >= 60:\n",
    "    print('C')\n",
    "else:\n",
    "    print('D')\n"
   ]
  },
  {
   "cell_type": "code",
   "execution_count": 2,
   "id": "c9ed5654",
   "metadata": {},
   "outputs": [
    {
     "name": "stdout",
     "output_type": "stream",
     "text": [
      "1.7000000000000002\n"
     ]
    }
   ],
   "source": [
    "#Question 2\n",
    "price = int(input())\n",
    "tax = 0\n",
    "if price > 100000:\n",
    "    tax = 0.15 * price\n",
    "elif price > 50000:\n",
    "    tax = 0.1 * price\n",
    "else:\n",
    "    tax = 0.05 * price\n",
    "print(tax)\n"
   ]
  },
  {
   "cell_type": "code",
   "execution_count": null,
   "id": "9198d41b",
   "metadata": {},
   "outputs": [],
   "source": [
    "# question 3\n",
    "cityMap = {\n",
    "    \"Delhi\":\"Red Fort\",\n",
    "    \"Agra\" : \"Taj Mahal\",\n",
    "    \"Jaipur\": \"Taj Mahal\"\n",
    "}\n",
    "city = input()\n",
    "print(cityMap.get(city, \"Not Found\"))\n"
   ]
  },
  {
   "cell_type": "code",
   "execution_count": 3,
   "id": "725a2cb9",
   "metadata": {},
   "outputs": [
    {
     "name": "stdout",
     "output_type": "stream",
     "text": [
      "0\n"
     ]
    }
   ],
   "source": [
    "#question 4\n",
    "\n",
    "number = int(input())\n",
    "count = 0\n",
    "while (number > 10):\n",
    "    count+=1\n",
    "    number /= 3\n",
    "print(count)"
   ]
  },
  {
   "attachments": {},
   "cell_type": "markdown",
   "id": "3b9931e3",
   "metadata": {},
   "source": [
    "#question 5\n",
    "'''\n",
    "while loop can be used when a specific terminating condition is known\n",
    "eg. above code\n",
    "'''"
   ]
  },
  {
   "cell_type": "code",
   "execution_count": 4,
   "id": "7ff1ce56",
   "metadata": {},
   "outputs": [
    {
     "name": "stdout",
     "output_type": "stream",
     "text": [
      "10 9 8 7 6 5 4 3 2 1 \n"
     ]
    }
   ],
   "source": [
    "#question 7 & 8\n",
    "cnt = 10\n",
    "while (cnt > 0):\n",
    "    print(cnt, end = ' ')\n",
    "    cnt-=1\n",
    "print()"
   ]
  }
 ],
 "metadata": {
  "kernelspec": {
   "display_name": "Python 3",
   "language": "python",
   "name": "python3"
  },
  "language_info": {
   "codemirror_mode": {
    "name": "ipython",
    "version": 3
   },
   "file_extension": ".py",
   "mimetype": "text/x-python",
   "name": "python",
   "nbconvert_exporter": "python",
   "pygments_lexer": "ipython3",
   "version": "3.9.6"
  },
  "vscode": {
   "interpreter": {
    "hash": "31f2aee4e71d21fbe5cf8b01ff0e069b9275f58929596ceb00d14d90e3e16cd6"
   }
  }
 },
 "nbformat": 4,
 "nbformat_minor": 5
}
