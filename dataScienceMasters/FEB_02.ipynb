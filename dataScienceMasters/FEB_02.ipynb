{
 "cells": [
  {
   "cell_type": "code",
   "execution_count": null,
   "id": "d780f06b-5baf-461a-b385-9aa7dfc95181",
   "metadata": {},
   "outputs": [],
   "source": [
    "#question2\n",
    "_sum, _product = 0, 1\n",
    "for i in range(1, 11, 1):\n",
    "    _sum += i\n",
    "    _product *= i\n",
    "\n",
    "print(_sum, _product)\n",
    "_sum = 0\n",
    "_product = 1\n",
    "cnt = 10\n",
    "while (cnt > 0):\n",
    "    _sum += cnt\n",
    "    _product *= cnt\n",
    "    cnt -= 1\n",
    "print(\"Q2 => \",_sum, _product)\n",
    "\n",
    "#question3\n",
    "\n",
    "units = int(input())\n",
    "price = min(units, 100) * 4.5 + max(0, min(units - 100, 100)) * 6 + max(0, min(units - 200, 100)) * 10 + max(0, units - 300) * 20\n",
    "print(\"Q3 => \",price) \n",
    "\n",
    "#question4\n",
    "res = []\n",
    "for i in range(1, 101, 1):\n",
    "    a = i * i * i\n",
    "    if a % 4 == 0 or a % 5 == 0:\n",
    "        res.append(i)\n",
    "print(\"Q4 => \",res)\n",
    "res = [i for i in range(1, 101, 1) if i ** 3 % 4 == 0 or i * i * i % 5 == 0]\n",
    "print(res)\n",
    "\n",
    "# Q5\n",
    "str = \"I want to become a data scientist\"\n",
    "str = str.lower()\n",
    "st = {'a','e', 'i','o','u'}\n",
    "\n",
    "cnt = 0\n",
    "for i in str:\n",
    "    if i in st:\n",
    "        cnt+=1\n",
    "\n",
    "print(\"Q5 => \",cnt)"
   ]
  }
 ],
 "metadata": {
  "kernelspec": {
   "display_name": "Python 3 (ipykernel)",
   "language": "python",
   "name": "python3"
  },
  "language_info": {
   "codemirror_mode": {
    "name": "ipython",
    "version": 3
   },
   "file_extension": ".py",
   "mimetype": "text/x-python",
   "name": "python",
   "nbconvert_exporter": "python",
   "pygments_lexer": "ipython3",
   "version": "3.10.8"
  }
 },
 "nbformat": 4,
 "nbformat_minor": 5
}
